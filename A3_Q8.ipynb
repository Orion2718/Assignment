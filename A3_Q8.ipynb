{
  "nbformat": 4,
  "nbformat_minor": 0,
  "metadata": {
    "colab": {
      "provenance": []
    },
    "kernelspec": {
      "name": "python3",
      "display_name": "Python 3"
    },
    "language_info": {
      "name": "python"
    }
  },
  "cells": [
    {
      "cell_type": "code",
      "execution_count": 12,
      "metadata": {
        "colab": {
          "base_uri": "https://localhost:8080/"
        },
        "id": "ln9sN7W664_V",
        "outputId": "e4bd177c-d58a-4f2e-a9c5-63aa00a33d76"
      },
      "outputs": [
        {
          "output_type": "stream",
          "name": "stdout",
          "text": [
            "1-\n",
            "Rigidity\t= 17.713 Tm \n",
            "Energy loss\t= 1.9149117874426525e-08 eV \n",
            "Theta\t\t= 47.5946°\n",
            "\n",
            "----------------------------------------------\n",
            "2-\n",
            "Rigidity\t= 8.601 Tm \n",
            "Energy loss\t= 5.109121543861313e-07 eV \n",
            "Theta\t\t= 41.0942°\n",
            "\n",
            "----------------------------------------------\n",
            "3-\n",
            "Rigidity\t= 33.335 Tm \n",
            "Energy loss\t= 9837496.949738154 eV \n",
            "Theta\t\t= 0.0029°\n",
            "\n",
            "----------------------------------------------\n"
          ]
        }
      ],
      "source": [
        "import math as m\n",
        "\n",
        "def Get_Rig(T,E0,Z): \n",
        "\n",
        "    RJ = ((m.sqrt( (T+E0)**2 - E0**2)) / (3E8 * 1.6E-19 * Z)) # Rigidity\n",
        "    EL = ((((1.6E-19*Z)**2 *(m.sqrt(1-(1/((T/E0)+1)**2)))**3*((T/E0)+1)**4)/(3*8.85418782E-12*(561.6/(2*m.pi))))/1.6E-19) # Energy Loss\n",
        "    Theta = (180) / (((T/E0)+1) * m.pi) # \n",
        "\n",
        "    print(f'Rigidity\\t= {RJ:.3f} Tm \\nEnergy loss\\t= {EL} eV \\nTheta\\t\\t= {Theta:.4f}°')\n",
        "    print(\"\\n----------------------------------------------\")\n",
        "\n",
        "print(\"1-\")\n",
        "Get_Rig(7.24E-9,3.552E-8,28)\n",
        "\n",
        "print(\"2-\")\n",
        "Get_Rig(1.29E-8, 3.272E-8, 77)\n",
        "\n",
        "print(\"3-\")\n",
        "Get_Rig(1.6E-9, 8.186E-14, 1)"
      ]
    }
  ]
}