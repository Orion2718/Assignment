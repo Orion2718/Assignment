{
  "nbformat": 4,
  "nbformat_minor": 0,
  "metadata": {
    "colab": {
      "provenance": [],
      "collapsed_sections": []
    },
    "kernelspec": {
      "name": "python3",
      "display_name": "Python 3"
    },
    "language_info": {
      "name": "python"
    }
  },
  "cells": [
    {
      "cell_type": "code",
      "execution_count": null,
      "metadata": {
        "colab": {
          "base_uri": "https://localhost:8080/"
        },
        "id": "62-HpL6YssUP",
        "outputId": "ce481c5c-be5b-41b6-f452-fc1cdcaa9762"
      },
      "outputs": [
        {
          "output_type": "stream",
          "name": "stdout",
          "text": [
            "\n",
            "matrix m1 =\n",
            "[769, -259, -903]\n",
            "[252, -781, -607]\n",
            "[742, -97, 44]\n",
            "\n",
            "\n",
            "\n",
            "\n",
            "matrix m2 =\n",
            "[-729, -838, -818]\n",
            "[638, 269, -722]\n",
            "[270, -410, 811]\n",
            "\n",
            "\n",
            "\n",
            "\n",
            " Multiplied matrix ma =\n",
            "[[ -969653  -343863 -1174377]\n",
            " [ -845876  -172395  -134531]\n",
            " [ -590924  -665929  -501238]]\n"
          ]
        }
      ],
      "source": [
        "# Random numbers Matrix multlipication\n",
        "\n",
        "import random   # importing an inbuilt function to generate random numbers\n",
        "import numpy as n # numpy helps to generate a random number between 0-1\n",
        "\n",
        "r=3 # number of rows\n",
        "c=3 # number of colums\n",
        "\n",
        "\n",
        "m1=[[0 for _ in range(r)]for _ in range(c)]\n",
        "\n",
        "for i in range(3):\n",
        "  for j in range(3):\n",
        "    a=random.randint(-999,999)\n",
        "    m1[i][j]=a\n",
        "  \n",
        "print(\"\\nmatrix m1 =\")\n",
        "for x in m1:\n",
        "  print(x)\n",
        "print(\"\\n\\n\")\n",
        "\n",
        "\n",
        "m2=[[0 for _ in range(r)]for _ in range(c)]\n",
        "\n",
        "for i in range(3):\n",
        "  for j in range(3):\n",
        "    b=random.randint(-999,999)\n",
        "    m2[i][j]=b\n",
        "\n",
        "print(\"\\nmatrix m2 =\")\n",
        "for x in m2:\n",
        "  print(x)\n",
        "print(\"\\n\\n\")\n",
        "\n",
        "\n",
        "ma=[[0 for _ in range(r)]for _ in range(c)]\n",
        "\n",
        "# multiply\n",
        "ma = n.dot(m1,m2)\n",
        "\n",
        "print(\"\\n Multiplied matrix ma =\")\n",
        "print(ma)"
      ]
    }
  ]
}